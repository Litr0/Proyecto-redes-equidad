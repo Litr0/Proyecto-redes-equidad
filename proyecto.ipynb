{
 "cells": [
  {
   "cell_type": "code",
   "execution_count": null,
   "metadata": {},
   "outputs": [],
   "source": [
    "import pandas as pd\n",
    "import numpy as np\n",
    "import matplotlib.pyplot as plt\n",
    "import networkx as nx"
   ]
  },
  {
   "cell_type": "code",
   "execution_count": null,
   "metadata": {},
   "outputs": [],
   "source": [
    "autores_2019 = pd.read_csv('autores_2019.csv')\n",
    "autores_2020 = pd.read_csv('autores_2020.csv')\n",
    "autores_2021 = pd.read_csv('autores_2021.csv')\n",
    "autores_2022 = pd.read_csv('autores_2022.csv')\n",
    "\n",
    "colaboraciones_2019 = pd.read_csv('colaboraciones_2019.csv')\n",
    "colaboraciones_2020 = pd.read_csv('colaboraciones_2020.csv')\n",
    "colaboraciones_2021 = pd.read_csv('colaboraciones_2021.csv')\n",
    "colaboraciones_2022 = pd.read_csv('colaboraciones_2022.csv')"
   ]
  },
  {
   "cell_type": "code",
   "execution_count": null,
   "metadata": {},
   "outputs": [],
   "source": [
    "resultado = pd.merge(autores_2019, colaboraciones_2019, left_on='author', right_on='author1')\n",
    "resultado.head()\n"
   ]
  },
  {
   "cell_type": "code",
   "execution_count": null,
   "metadata": {},
   "outputs": [],
   "source": [
    "autores_2019 = pd.read_csv('autores_2019.csv')\n",
    "autores_2020 = pd.read_csv('autores_2020.csv')\n",
    "autores_2021 = pd.read_csv('autores_2021.csv')\n",
    "autores_2022 = pd.read_csv('autores_2022.csv')\n",
    "\n",
    "colaboraciones_2019 = pd.read_csv('colaboraciones_2019.csv')\n",
    "colaboraciones_2020 = pd.read_csv('colaboraciones_2020.csv')\n",
    "colaboraciones_2021 = pd.read_csv('colaboraciones_2021.csv')\n",
    "colaboraciones_2022 = pd.read_csv('colaboraciones_2022.csv')"
   ]
  },
  {
   "cell_type": "code",
   "execution_count": null,
   "metadata": {},
   "outputs": [],
   "source": [
    "resultado1 = pd.merge(autores_2019, colaboraciones_2019, left_on='author', right_on='author1')\n",
    "\n",
    "resultado2 = pd.merge(autores_2019, colaboraciones_2019, left_on='author', right_on='author2')\n",
    "\n",
    "resultado2.head()"
   ]
  },
  {
   "cell_type": "code",
   "execution_count": null,
   "metadata": {},
   "outputs": [],
   "source": [
    "#Agregamos el país a cada autor\n",
    "autores_2019['country'] = autores_2019['aff'].apply(lambda x: x.split(',')[-1])\n",
    "autores_2020['country'] = autores_2020['aff'].apply(lambda x: x.split(',')[-1])\n",
    "autores_2021['country'] = autores_2021['aff'].apply(lambda x: x.split(',')[-1])\n",
    "autores_2022['country'] = autores_2022['aff'].apply(lambda x: x.split(',')[-1])"
   ]
  },
  {
   "cell_type": "code",
   "execution_count": null,
   "metadata": {},
   "outputs": [],
   "source": [
    "G = nx.Graph()\n",
    "\n",
    "for index, row in autores_2019.iterrows():\n",
    "    author = row['name']\n",
    "    country = row['country']\n",
    "    id = row['author'] \n",
    "    \n",
    "    # Agregar nodo con atributos país e ID\n",
    "    G.add_node(id, author=author, country=country)\n",
    "\n",
    "for index, row in colaboraciones_2019.iterrows():\n",
    "    author1_id = row['author1']\n",
    "    author2_id = row['author2']\n",
    "    G.add_edge(author1_id, author2_id)\n",
    "\n",
    "pos = nx.spring_layout(G)\n",
    "nx.draw(G, pos, with_labels=False, font_size=8, node_size=100, node_color='skyblue', font_color='black', font_weight='bold', edge_color='gray')\n",
    "plt.title('Colaboración entre Autores 2019')\n",
    "plt.show()"
   ]
  },
  {
   "cell_type": "code",
   "execution_count": 3,
   "metadata": {},
   "outputs": [],
   "source": [
    "autores_2019 = pd.read_csv('autores_2019.csv')\n",
    "autores_2020 = pd.read_csv('autores_2020.csv')\n",
    "autores_2021 = pd.read_csv('autores_2021.csv')\n",
    "autores_2022 = pd.read_csv('autores_2022.csv')\n",
    "\n",
    "colaboraciones_2019 = pd.read_csv('colaboraciones_2019.csv')\n",
    "colaboraciones_2020 = pd.read_csv('colaboraciones_2020.csv')\n",
    "colaboraciones_2021 = pd.read_csv('colaboraciones_2021.csv')\n",
    "colaboraciones_2022 = pd.read_csv('colaboraciones_2022.csv')"
   ]
  },
  {
   "cell_type": "code",
   "execution_count": 17,
   "metadata": {},
   "outputs": [],
   "source": [
    "resultado1 = pd.merge(autores_2019, colaboraciones_2019, left_on='author', right_on='author1')\n",
    "\n",
    "resultado2 = pd.merge(autores_2019, colaboraciones_2019, left_on='author', right_on='author2')"
   ]
  }
 ],
 "metadata": {
  "language_info": {
   "name": "python"
  }
 },
 "nbformat": 4,
 "nbformat_minor": 2
}
