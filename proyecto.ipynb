{
 "cells": [
  {
   "cell_type": "code",
   "execution_count": 2,
   "metadata": {},
   "outputs": [
    {
     "name": "stdout",
     "output_type": "stream",
     "text": [
      "Collecting pycountry\n",
      "  Downloading pycountry-23.12.7-py3-none-any.whl (6.2 MB)\n",
      "     ---------------------------------------- 6.2/6.2 MB 56.9 MB/s eta 0:00:00\n",
      "Installing collected packages: pycountry\n",
      "Successfully installed pycountry-23.12.7\n",
      "Collecting pyvis\n",
      "  Downloading pyvis-0.3.2-py3-none-any.whl (756 kB)\n",
      "     ---------------------------------------- 756.0/756.0 kB 24.1 MB/s eta 0:00:00\n",
      "Requirement already satisfied: jinja2>=2.9.6 in c:\\users\\gonza\\anaconda3\\lib\\site-packages (from pyvis) (2.11.3)\n",
      "Collecting jsonpickle>=1.4.1\n",
      "  Downloading jsonpickle-3.0.2-py3-none-any.whl (40 kB)\n",
      "     ---------------------------------------- 40.7/40.7 kB ? eta 0:00:00\n",
      "Requirement already satisfied: networkx>=1.11 in c:\\users\\gonza\\anaconda3\\lib\\site-packages (from pyvis) (2.8.4)\n",
      "Requirement already satisfied: ipython>=5.3.0 in c:\\users\\gonza\\anaconda3\\lib\\site-packages (from pyvis) (7.31.1)\n",
      "Requirement already satisfied: decorator in c:\\users\\gonza\\anaconda3\\lib\\site-packages (from ipython>=5.3.0->pyvis) (5.1.1)\n",
      "Requirement already satisfied: jedi>=0.16 in c:\\users\\gonza\\anaconda3\\lib\\site-packages (from ipython>=5.3.0->pyvis) (0.18.1)\n",
      "Requirement already satisfied: backcall in c:\\users\\gonza\\anaconda3\\lib\\site-packages (from ipython>=5.3.0->pyvis) (0.2.0)\n",
      "Requirement already satisfied: setuptools>=18.5 in c:\\users\\gonza\\anaconda3\\lib\\site-packages (from ipython>=5.3.0->pyvis) (63.4.1)\n",
      "Requirement already satisfied: pygments in c:\\users\\gonza\\anaconda3\\lib\\site-packages (from ipython>=5.3.0->pyvis) (2.11.2)\n",
      "Requirement already satisfied: prompt-toolkit!=3.0.0,!=3.0.1,<3.1.0,>=2.0.0 in c:\\users\\gonza\\anaconda3\\lib\\site-packages (from ipython>=5.3.0->pyvis) (3.0.20)\n",
      "Requirement already satisfied: colorama in c:\\users\\gonza\\anaconda3\\lib\\site-packages (from ipython>=5.3.0->pyvis) (0.4.5)\n",
      "Requirement already satisfied: traitlets>=4.2 in c:\\users\\gonza\\anaconda3\\lib\\site-packages (from ipython>=5.3.0->pyvis) (5.1.1)\n",
      "Requirement already satisfied: matplotlib-inline in c:\\users\\gonza\\anaconda3\\lib\\site-packages (from ipython>=5.3.0->pyvis) (0.1.6)\n",
      "Requirement already satisfied: pickleshare in c:\\users\\gonza\\anaconda3\\lib\\site-packages (from ipython>=5.3.0->pyvis) (0.7.5)\n",
      "Requirement already satisfied: MarkupSafe>=0.23 in c:\\users\\gonza\\anaconda3\\lib\\site-packages (from jinja2>=2.9.6->pyvis) (2.0.1)\n",
      "Requirement already satisfied: parso<0.9.0,>=0.8.0 in c:\\users\\gonza\\anaconda3\\lib\\site-packages (from jedi>=0.16->ipython>=5.3.0->pyvis) (0.8.3)\n",
      "Requirement already satisfied: wcwidth in c:\\users\\gonza\\anaconda3\\lib\\site-packages (from prompt-toolkit!=3.0.0,!=3.0.1,<3.1.0,>=2.0.0->ipython>=5.3.0->pyvis) (0.2.5)\n",
      "Installing collected packages: jsonpickle, pyvis\n",
      "Successfully installed jsonpickle-3.0.2 pyvis-0.3.2\n"
     ]
    }
   ],
   "source": [
    "!pip install pycountry\n",
    "!pip install pyvis"
   ]
  },
  {
   "cell_type": "code",
   "execution_count": 18,
   "metadata": {},
   "outputs": [],
   "source": [
    "import pandas as pd\n",
    "import numpy as np\n",
    "import matplotlib.pyplot as plt\n",
    "import networkx as nx"
   ]
  },
  {
   "cell_type": "code",
   "execution_count": 19,
   "metadata": {},
   "outputs": [
    {
     "data": {
      "text/html": [
       "<div>\n",
       "<style scoped>\n",
       "    .dataframe tbody tr th:only-of-type {\n",
       "        vertical-align: middle;\n",
       "    }\n",
       "\n",
       "    .dataframe tbody tr th {\n",
       "        vertical-align: top;\n",
       "    }\n",
       "\n",
       "    .dataframe thead th {\n",
       "        text-align: right;\n",
       "    }\n",
       "</style>\n",
       "<table border=\"1\" class=\"dataframe\">\n",
       "  <thead>\n",
       "    <tr style=\"text-align: right;\">\n",
       "      <th></th>\n",
       "      <th>doi</th>\n",
       "      <th>author1</th>\n",
       "      <th>name1</th>\n",
       "      <th>aff1</th>\n",
       "      <th>author2</th>\n",
       "      <th>name2</th>\n",
       "      <th>aff2</th>\n",
       "    </tr>\n",
       "  </thead>\n",
       "  <tbody>\n",
       "    <tr>\n",
       "      <th>0</th>\n",
       "      <td>http://dx.doi.org/10.1109/5gwf.2019.8911693</td>\n",
       "      <td>https://dblp.org/pid/75/4085</td>\n",
       "      <td>Mérouane Debbah</td>\n",
       "      <td>Khalifa University, Abu Dhabi, United Arab Emi...</td>\n",
       "      <td>https://dblp.org/pid/119/7827</td>\n",
       "      <td>Miguel Ángel Vázquez</td>\n",
       "      <td>Centre Tecnològic de Telecomunicacions de Cata...</td>\n",
       "    </tr>\n",
       "    <tr>\n",
       "      <th>1</th>\n",
       "      <td>https://doi.org/10.1109/5gwf.2019.8911693</td>\n",
       "      <td>https://dblp.org/pid/75/4085</td>\n",
       "      <td>Mérouane Debbah</td>\n",
       "      <td>Khalifa University, Abu Dhabi, United Arab Emi...</td>\n",
       "      <td>https://dblp.org/pid/119/7827</td>\n",
       "      <td>Miguel Ángel Vázquez</td>\n",
       "      <td>Centre Tecnològic de Telecomunicacions de Cata...</td>\n",
       "    </tr>\n",
       "    <tr>\n",
       "      <th>2</th>\n",
       "      <td>http://dx.doi.org/10.1007/978-3-030-21074-8_26</td>\n",
       "      <td>https://dblp.org/pid/l/MongLiLee</td>\n",
       "      <td>Mong-Li Lee</td>\n",
       "      <td>National University of Singapore (NUS)</td>\n",
       "      <td>https://dblp.org/pid/243/1972-1</td>\n",
       "      <td>Quang Duc Nguyen 0001</td>\n",
       "      <td>Singapore Eye Research Institute, Singapore</td>\n",
       "    </tr>\n",
       "    <tr>\n",
       "      <th>3</th>\n",
       "      <td>https://doi.org/10.1007/978-3-030-21074-8_26</td>\n",
       "      <td>https://dblp.org/pid/l/MongLiLee</td>\n",
       "      <td>Mong-Li Lee</td>\n",
       "      <td>National University of Singapore (NUS)</td>\n",
       "      <td>https://dblp.org/pid/243/1972-1</td>\n",
       "      <td>Quang Duc Nguyen 0001</td>\n",
       "      <td>Singapore Eye Research Institute, Singapore</td>\n",
       "    </tr>\n",
       "    <tr>\n",
       "      <th>4</th>\n",
       "      <td>http://dx.doi.org/10.1007/978-3-030-21074-8_26</td>\n",
       "      <td>https://dblp.org/pid/l/MongLiLee</td>\n",
       "      <td>Mong-Li Lee</td>\n",
       "      <td>National University of Singapore (NUS)</td>\n",
       "      <td>https://dblp.org/pid/h/WynneHsu</td>\n",
       "      <td>Wynne Hsu</td>\n",
       "      <td>National University of Singapore (NUS)</td>\n",
       "    </tr>\n",
       "  </tbody>\n",
       "</table>\n",
       "</div>"
      ],
      "text/plain": [
       "                                              doi  \\\n",
       "0     http://dx.doi.org/10.1109/5gwf.2019.8911693   \n",
       "1       https://doi.org/10.1109/5gwf.2019.8911693   \n",
       "2  http://dx.doi.org/10.1007/978-3-030-21074-8_26   \n",
       "3    https://doi.org/10.1007/978-3-030-21074-8_26   \n",
       "4  http://dx.doi.org/10.1007/978-3-030-21074-8_26   \n",
       "\n",
       "                            author1            name1  \\\n",
       "0      https://dblp.org/pid/75/4085  Mérouane Debbah   \n",
       "1      https://dblp.org/pid/75/4085  Mérouane Debbah   \n",
       "2  https://dblp.org/pid/l/MongLiLee      Mong-Li Lee   \n",
       "3  https://dblp.org/pid/l/MongLiLee      Mong-Li Lee   \n",
       "4  https://dblp.org/pid/l/MongLiLee      Mong-Li Lee   \n",
       "\n",
       "                                                aff1  \\\n",
       "0  Khalifa University, Abu Dhabi, United Arab Emi...   \n",
       "1  Khalifa University, Abu Dhabi, United Arab Emi...   \n",
       "2             National University of Singapore (NUS)   \n",
       "3             National University of Singapore (NUS)   \n",
       "4             National University of Singapore (NUS)   \n",
       "\n",
       "                           author2                  name2  \\\n",
       "0    https://dblp.org/pid/119/7827   Miguel Ángel Vázquez   \n",
       "1    https://dblp.org/pid/119/7827   Miguel Ángel Vázquez   \n",
       "2  https://dblp.org/pid/243/1972-1  Quang Duc Nguyen 0001   \n",
       "3  https://dblp.org/pid/243/1972-1  Quang Duc Nguyen 0001   \n",
       "4  https://dblp.org/pid/h/WynneHsu              Wynne Hsu   \n",
       "\n",
       "                                                aff2  \n",
       "0  Centre Tecnològic de Telecomunicacions de Cata...  \n",
       "1  Centre Tecnològic de Telecomunicacions de Cata...  \n",
       "2        Singapore Eye Research Institute, Singapore  \n",
       "3        Singapore Eye Research Institute, Singapore  \n",
       "4             National University of Singapore (NUS)  "
      ]
     },
     "execution_count": 19,
     "metadata": {},
     "output_type": "execute_result"
    }
   ],
   "source": [
    "colaboraciones_2019 = pd.read_csv('colaboraciones_with_names_2019.csv')\n",
    "colaboraciones_2019 = colaboraciones_2019.drop_duplicates()\n",
    "colaboraciones_2020 = pd.read_csv('colaboraciones_with_names_2020.csv')\n",
    "colaboraciones_2020 = colaboraciones_2020.drop_duplicates()\n",
    "colaboraciones_2021 = pd.read_csv('colaboraciones_with_names_2021.csv')\n",
    "colaboraciones_2021 = colaboraciones_2021.drop_duplicates()\n",
    "colaboraciones_2022 = pd.read_csv('colaboraciones_with_names_2022.csv')\n",
    "colaboraciones_2022 = colaboraciones_2022.drop_duplicates()\n",
    "\n",
    "authors_country_2019 = pd.read_csv('Authors_with_country_2019.csv')\n",
    "authors_country_2020 = pd.read_csv('Authors_with_country_2020.csv')\n",
    "\n",
    "#Mostramos como se estructuran los dataset en general\n",
    "colaboraciones_2019.head()"
   ]
  },
  {
   "cell_type": "code",
   "execution_count": 20,
   "metadata": {},
   "outputs": [],
   "source": [
    "#Agregamos el año a cada dataframe\n",
    "colaboraciones_2019['year'] = 2019\n",
    "colaboraciones_2020['year'] = 2020\n",
    "colaboraciones_2021['year'] = 2021\n",
    "colaboraciones_2022['year'] = 2022"
   ]
  },
  {
   "cell_type": "code",
   "execution_count": 21,
   "metadata": {},
   "outputs": [
    {
     "name": "stdout",
     "output_type": "stream",
     "text": [
      "Warning: When  cdn_resources is 'local' jupyter notebook has issues displaying graphics on chrome/safari. Use cdn_resources='in_line' or cdn_resources='remote' if you have issues viewing graphics in a notebook.\n",
      "graph_2019.html\n"
     ]
    },
    {
     "data": {
      "text/html": [
       "\n",
       "        <iframe\n",
       "            width=\"100%\"\n",
       "            height=\"600px\"\n",
       "            src=\"graph_2019.html\"\n",
       "            frameborder=\"0\"\n",
       "            allowfullscreen\n",
       "            \n",
       "        ></iframe>\n",
       "        "
      ],
      "text/plain": [
       "<IPython.lib.display.IFrame at 0x1ef702346a0>"
      ]
     },
     "execution_count": 21,
     "metadata": {},
     "output_type": "execute_result"
    }
   ],
   "source": [
    "import networkx as nx\n",
    "from pyvis.network import Network\n",
    "import matplotlib.pyplot as plt\n",
    "\n",
    "# Add a column with the pairs of authors\n",
    "pares_autores_2019 = colaboraciones_2019[['name1', 'aff1','name2', 'aff2', 'doi']].drop_duplicates()\n",
    "pares_autores_2019['pairs'] = pares_autores_2019['name1'] + ' - ' + pares_autores_2019['name2']\n",
    "pares_autores_2019['pairs2'] = pares_autores_2019['name2'] + ' - ' + pares_autores_2019['name1']\n",
    "\n",
    "\n",
    "\n",
    "# Create an empty graph\n",
    "G = nx.Graph()\n",
    "\n",
    "# Add edges connecting name1 with name2\n",
    "for index, row in pares_autores_2019.iterrows():\n",
    "    name1 = row['name1']\n",
    "    name2 = row['name2']\n",
    "    G.add_edge(name1, name2)\n",
    "\n",
    "# Create a pyvis network\n",
    "nt = Network(notebook=True)\n",
    "\n",
    "# Add nodes and edges to the network\n",
    "for node in G.nodes:\n",
    "    nt.add_node(node)\n",
    "\n",
    "for edge in G.edges:\n",
    "    nt.add_edge(edge[0], edge[1])\n",
    "\n",
    "# Display the network\n",
    "nt.show('graph_2019.html')\n"
   ]
  },
  {
   "cell_type": "code",
   "execution_count": 22,
   "metadata": {},
   "outputs": [
    {
     "name": "stdout",
     "output_type": "stream",
     "text": [
      "0.569047619047619 0.9066928811337757\n",
      "homofilia\n"
     ]
    }
   ],
   "source": [
    "# Extrae información única sobre autores y sus afiliaciones\n",
    "autores_1_2019 = colaboraciones_2019[['name1', 'aff1']].drop_duplicates()\n",
    "autores_2_2019 = colaboraciones_2019[['name2', 'aff2']].rename(columns={'name2': 'name1', 'aff2': 'aff1'}).drop_duplicates()\n",
    "autores_2019 = pd.concat([autores_1_2019, autores_2_2019])\n",
    "\n",
    "# Extraemos el nombre y el páis de cada autor\n",
    "autores_pais_2019 = authors_country_2019[['Name', 'Country']]\n",
    "\n",
    "# Crea un diccionario que asigna el país a cada autor\n",
    "pais_de_autor_2019 = {}\n",
    "for index, row in autores_pais_2019.iterrows():\n",
    "    pais_de_autor_2019[row['Name']] = row['Country']\n",
    "\n",
    "# Elimina duplicados en la información de autores\n",
    "autores_2019 = autores_2019.drop_duplicates()\n",
    "\n",
    "# Crea un grafo vacío utilizando NetworkX\n",
    "G = nx.Graph()\n",
    "\n",
    "# Inicializa diccionarios para contar la cantidad de autores por país y el número total de países\n",
    "pais = {}\n",
    "paises = 0\n",
    "\n",
    "# Llena el diccionario 'pais' y cuenta la cantidad total de países\n",
    "for index, row in autores_2019.iterrows():\n",
    "    nombre = row['name1']\n",
    "    paiss = pais_de_autor_2019[nombre]\n",
    "    pais[paiss] = pais.get(paiss, 0) + 1\n",
    "    paises += 1\n",
    "\n",
    "# Inicializa variables para calcular el índice de homofilia\n",
    "cross_edges = 0\n",
    "total_edges = 0\n",
    "\n",
    "# Calcula el número de aristas cruzadas y el número total de aristas en el grafo\n",
    "for index, row in pares_autores_2019.iterrows():\n",
    "    name1 = row['name1']\n",
    "    name2 = row['name2']\n",
    "    if (pais_de_autor_2019[name1] != pais_de_autor_2019[name2]):\n",
    "        cross_edges += 1\n",
    "    total_edges += 1\n",
    "\n",
    "# Calcula el índice de homofilia (e_ratio) y la probabilidad nula (mu)\n",
    "e_ratio = cross_edges / total_edges\n",
    "numerador = 0\n",
    "for pp in pais:\n",
    "    numerador += pais[pp] * (pais[pp] - 1)\n",
    "mu = 1 - numerador / (paises * (paises - 1))\n",
    "\n",
    "# Imprime el índice de homofilia y la probabilidad nula\n",
    "print(e_ratio, mu)\n",
    "\n",
    "# Compara e_ratio con mu y determina si hay homofilia o no\n",
    "if e_ratio < mu:\n",
    "    print(\"homofilia\")\n",
    "else:\n",
    "    print(\"no homofilia\")"
   ]
  },
  {
   "cell_type": "code",
   "execution_count": 23,
   "metadata": {},
   "outputs": [
    {
     "name": "stdout",
     "output_type": "stream",
     "text": [
      "Warning: When  cdn_resources is 'local' jupyter notebook has issues displaying graphics on chrome/safari. Use cdn_resources='in_line' or cdn_resources='remote' if you have issues viewing graphics in a notebook.\n",
      "graph_2020.html\n"
     ]
    },
    {
     "data": {
      "text/html": [
       "\n",
       "        <iframe\n",
       "            width=\"100%\"\n",
       "            height=\"600px\"\n",
       "            src=\"graph_2020.html\"\n",
       "            frameborder=\"0\"\n",
       "            allowfullscreen\n",
       "            \n",
       "        ></iframe>\n",
       "        "
      ],
      "text/plain": [
       "<IPython.lib.display.IFrame at 0x1ef70559a00>"
      ]
     },
     "execution_count": 23,
     "metadata": {},
     "output_type": "execute_result"
    }
   ],
   "source": [
    "pares_autores_2020 = colaboraciones_2020[['name1', 'aff1','name2', 'aff2', 'doi']].drop_duplicates()\n",
    "pares_autores_2020['pairs'] = pares_autores_2020['name1'] + ' - ' + pares_autores_2020['name2']\n",
    "pares_autores_2020['pairs2'] = pares_autores_2020['name2'] + ' - ' + pares_autores_2020['name1']\n",
    "\n",
    "\n",
    "# Create an empty graph\n",
    "G = nx.Graph()\n",
    "\n",
    "# Add edges connecting name1 with name2\n",
    "for index, row in pares_autores_2020.iterrows():\n",
    "    name1 = row['name1']\n",
    "    name2 = row['name2']\n",
    "    G.add_edge(name1, name2)\n",
    "\n",
    "# Create a pyvis network\n",
    "nt = Network(notebook=True)\n",
    "\n",
    "# Add nodes and edges to the network\n",
    "for node in G.nodes:\n",
    "    nt.add_node(node)\n",
    "\n",
    "for edge in G.edges:\n",
    "    nt.add_edge(edge[0], edge[1])\n",
    "\n",
    "# Display the network\n",
    "nt.show('graph_2020.html')"
   ]
  },
  {
   "cell_type": "code",
   "execution_count": 24,
   "metadata": {},
   "outputs": [
    {
     "name": "stdout",
     "output_type": "stream",
     "text": [
      "0.49236641221374045 0.9093002993417931\n",
      "homofilia\n"
     ]
    }
   ],
   "source": [
    "# Extrae pares únicos de autores y sus afiliaciones\n",
    "pares_autores_2020 = colaboraciones_2020[['name1', 'aff1','name2', 'aff2', 'doi']].drop_duplicates()\n",
    "pares_autores_2020['pairs'] = pares_autores_2020['name1'] + ' - ' + pares_autores_2020['name2']\n",
    "\n",
    "# Extrae información única sobre autores y sus afiliaciones\n",
    "autores_1_2020 = colaboraciones_2020[['name1', 'aff1']].drop_duplicates()\n",
    "autores_2_2020 = colaboraciones_2020[['name2', 'aff2']].rename(columns={'name2': 'name1', 'aff2': 'aff1'}).drop_duplicates()\n",
    "autores_2020 = pd.concat([autores_1_2020, autores_2_2020])\n",
    "\n",
    "# Extraemos el nombre y el páis de cada autor\n",
    "# Agregar Tabla de año 2020 con autores y países\n",
    "autores_pais_2020 = authors_country_2020[['name', 'country']]\n",
    "\n",
    "# Crea un diccionario que asigna el país a cada autor\n",
    "pais_de_autor_2020 = {}\n",
    "for index, row in autores_pais_2020.iterrows():\n",
    "    pais_de_autor_2020[row['name']] = row['country']\n",
    "\n",
    "# Elimina duplicados en la información de autores\n",
    "autores_2020 = autores_2020.drop_duplicates()\n",
    "\n",
    "# Crea un grafo vacío utilizando NetworkX\n",
    "G = nx.Graph()\n",
    "\n",
    "# Inicializa diccionarios para contar la cantidad de autores por país y el número total de países\n",
    "pais = {}\n",
    "paises = 0\n",
    "\n",
    "# Llena el diccionario 'pais' y cuenta la cantidad total de países\n",
    "for index, row in autores_2020.iterrows():\n",
    "    nombre = row['name1']\n",
    "    paiss = pais_de_autor_2020[nombre]\n",
    "    pais[paiss] = pais.get(paiss, 0) + 1\n",
    "    paises += 1\n",
    "\n",
    "# Inicializa variables para calcular el índice de homofilia\n",
    "cross_edges = 0\n",
    "total_edges = 0\n",
    "\n",
    "# Calcula el número de aristas cruzadas y el número total de aristas en el grafo\n",
    "for index, row in pares_autores_2020.iterrows():\n",
    "    name1 = row['name1']\n",
    "    name2 = row['name2']\n",
    "    if (pais_de_autor_2020[name1] != pais_de_autor_2020[name2]):\n",
    "        cross_edges += 1\n",
    "    total_edges += 1\n",
    "\n",
    "# Calcula el índice de homofilia (e_ratio) y la probabilidad nula (mu)\n",
    "e_ratio = cross_edges / total_edges\n",
    "numerador = 0\n",
    "for pp in pais:\n",
    "    numerador += pais[pp] * (pais[pp] - 1)\n",
    "mu = 1 - numerador / (paises * (paises - 1))\n",
    "\n",
    "# Imprime el índice de homofilia y la probabilidad nula\n",
    "print(e_ratio, mu)\n",
    "\n",
    "# Compara e_ratio con mu y determina si hay homofilia o no\n",
    "if e_ratio < mu:\n",
    "    print(\"homofilia\")\n",
    "else:\n",
    "    print(\"no homofilia\")"
   ]
  },
  {
   "cell_type": "code",
   "execution_count": 25,
   "metadata": {},
   "outputs": [
    {
     "name": "stdout",
     "output_type": "stream",
     "text": [
      "Warning: When  cdn_resources is 'local' jupyter notebook has issues displaying graphics on chrome/safari. Use cdn_resources='in_line' or cdn_resources='remote' if you have issues viewing graphics in a notebook.\n",
      "graph_2021.html\n"
     ]
    },
    {
     "data": {
      "text/html": [
       "\n",
       "        <iframe\n",
       "            width=\"100%\"\n",
       "            height=\"600px\"\n",
       "            src=\"graph_2021.html\"\n",
       "            frameborder=\"0\"\n",
       "            allowfullscreen\n",
       "            \n",
       "        ></iframe>\n",
       "        "
      ],
      "text/plain": [
       "<IPython.lib.display.IFrame at 0x1ef7057f8b0>"
      ]
     },
     "execution_count": 25,
     "metadata": {},
     "output_type": "execute_result"
    }
   ],
   "source": [
    "pares_autores_2021 = colaboraciones_2021[['name1', 'aff1','name2', 'aff2', 'doi']].drop_duplicates()\n",
    "pares_autores_2021['pairs'] = pares_autores_2021['name1'] + ' - ' + pares_autores_2021['name2']\n",
    "pares_autores_2021['pairs2'] = pares_autores_2021['name2'] + ' - ' + pares_autores_2021['name1']\n",
    "\n",
    "\n",
    "# Create an empty graph\n",
    "G = nx.Graph()\n",
    "\n",
    "# Add edges connecting name1 with name2\n",
    "for index, row in pares_autores_2021.iterrows():\n",
    "    name1 = row['name1']\n",
    "    name2 = row['name2']\n",
    "    G.add_edge(name1, name2)\n",
    "\n",
    "# Create a pyvis network\n",
    "nt = Network(notebook=True)\n",
    "\n",
    "# Add nodes and edges to the network\n",
    "for node in G.nodes:\n",
    "    nt.add_node(node)\n",
    "\n",
    "for edge in G.edges:\n",
    "    nt.add_edge(edge[0], edge[1])\n",
    "\n",
    "# Display the network\n",
    "nt.show('graph_2021.html')"
   ]
  },
  {
   "cell_type": "code",
   "execution_count": 26,
   "metadata": {},
   "outputs": [
    {
     "name": "stdout",
     "output_type": "stream",
     "text": [
      "Warning: When  cdn_resources is 'local' jupyter notebook has issues displaying graphics on chrome/safari. Use cdn_resources='in_line' or cdn_resources='remote' if you have issues viewing graphics in a notebook.\n",
      "graph_2022.html\n"
     ]
    },
    {
     "data": {
      "text/html": [
       "\n",
       "        <iframe\n",
       "            width=\"100%\"\n",
       "            height=\"600px\"\n",
       "            src=\"graph_2022.html\"\n",
       "            frameborder=\"0\"\n",
       "            allowfullscreen\n",
       "            \n",
       "        ></iframe>\n",
       "        "
      ],
      "text/plain": [
       "<IPython.lib.display.IFrame at 0x1ef6af51970>"
      ]
     },
     "execution_count": 26,
     "metadata": {},
     "output_type": "execute_result"
    }
   ],
   "source": [
    "pares_autores_2022 = colaboraciones_2022[['name1', 'aff1','name2', 'aff2', 'doi']].drop_duplicates()\n",
    "pares_autores_2022['pairs'] = pares_autores_2022['name1'] + ' - ' + pares_autores_2022['name2']\n",
    "pares_autores_2022['pairs2'] = pares_autores_2022['name2'] + ' - ' + pares_autores_2022['name1']\n",
    "\n",
    "# Create an empty graph\n",
    "G = nx.Graph()\n",
    "\n",
    "# Add edges connecting name1 with name2\n",
    "for index, row in pares_autores_2022.iterrows():\n",
    "    name1 = row['name1']\n",
    "    name2 = row['name2']\n",
    "    G.add_edge(name1, name2)\n",
    "\n",
    "# Create a pyvis network\n",
    "nt = Network(notebook=True)\n",
    "\n",
    "# Add nodes and edges to the network\n",
    "for node in G.nodes:\n",
    "    nt.add_node(node)\n",
    "\n",
    "for edge in G.edges:\n",
    "    nt.add_edge(edge[0], edge[1])\n",
    "\n",
    "# Display the network\n",
    "nt.show('graph_2022.html')"
   ]
  }
 ],
 "metadata": {
  "kernelspec": {
   "display_name": "Python 3",
   "language": "python",
   "name": "python3"
  },
  "language_info": {
   "codemirror_mode": {
    "name": "ipython",
    "version": 3
   },
   "file_extension": ".py",
   "mimetype": "text/x-python",
   "name": "python",
   "nbconvert_exporter": "python",
   "pygments_lexer": "ipython3",
   "version": "3.9.13"
  }
 },
 "nbformat": 4,
 "nbformat_minor": 2
}
