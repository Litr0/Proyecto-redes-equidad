{
 "cells": [
  {
   "cell_type": "code",
   "execution_count": 59,
   "metadata": {},
   "outputs": [],
   "source": [
    "import pandas as pd\n",
    "import numpy as np\n",
    "import matplotlib.pyplot as plt\n",
    "import networkx as nx\n",
    "import pycountry as pc"
   ]
  },
  {
   "cell_type": "code",
   "execution_count": 60,
   "metadata": {},
   "outputs": [],
   "source": [
    "#Lista con los paises\n",
    "countries = [country.name for country in pc.countries]"
   ]
  },
  {
   "cell_type": "code",
   "execution_count": 61,
   "metadata": {},
   "outputs": [
    {
     "name": "stdout",
     "output_type": "stream",
     "text": [
      "840\n",
      "1572\n",
      "1236\n",
      "1698\n"
     ]
    },
    {
     "data": {
      "text/html": [
       "<div>\n",
       "<style scoped>\n",
       "    .dataframe tbody tr th:only-of-type {\n",
       "        vertical-align: middle;\n",
       "    }\n",
       "\n",
       "    .dataframe tbody tr th {\n",
       "        vertical-align: top;\n",
       "    }\n",
       "\n",
       "    .dataframe thead th {\n",
       "        text-align: right;\n",
       "    }\n",
       "</style>\n",
       "<table border=\"1\" class=\"dataframe\">\n",
       "  <thead>\n",
       "    <tr style=\"text-align: right;\">\n",
       "      <th></th>\n",
       "      <th>doi</th>\n",
       "      <th>author1</th>\n",
       "      <th>name1</th>\n",
       "      <th>aff1</th>\n",
       "      <th>author2</th>\n",
       "      <th>name2</th>\n",
       "      <th>aff2</th>\n",
       "    </tr>\n",
       "  </thead>\n",
       "  <tbody>\n",
       "    <tr>\n",
       "      <th>0</th>\n",
       "      <td>http://dx.doi.org/10.1109/5gwf.2019.8911693</td>\n",
       "      <td>https://dblp.org/pid/75/4085</td>\n",
       "      <td>Mérouane Debbah</td>\n",
       "      <td>Khalifa University, Abu Dhabi, United Arab Emi...</td>\n",
       "      <td>https://dblp.org/pid/119/7827</td>\n",
       "      <td>Miguel Ángel Vázquez</td>\n",
       "      <td>Centre Tecnològic de Telecomunicacions de Cata...</td>\n",
       "    </tr>\n",
       "    <tr>\n",
       "      <th>1</th>\n",
       "      <td>https://doi.org/10.1109/5gwf.2019.8911693</td>\n",
       "      <td>https://dblp.org/pid/75/4085</td>\n",
       "      <td>Mérouane Debbah</td>\n",
       "      <td>Khalifa University, Abu Dhabi, United Arab Emi...</td>\n",
       "      <td>https://dblp.org/pid/119/7827</td>\n",
       "      <td>Miguel Ángel Vázquez</td>\n",
       "      <td>Centre Tecnològic de Telecomunicacions de Cata...</td>\n",
       "    </tr>\n",
       "    <tr>\n",
       "      <th>2</th>\n",
       "      <td>http://dx.doi.org/10.1007/978-3-030-21074-8_26</td>\n",
       "      <td>https://dblp.org/pid/l/MongLiLee</td>\n",
       "      <td>Mong-Li Lee</td>\n",
       "      <td>National University of Singapore (NUS)</td>\n",
       "      <td>https://dblp.org/pid/243/1972-1</td>\n",
       "      <td>Quang Duc Nguyen 0001</td>\n",
       "      <td>Singapore Eye Research Institute, Singapore</td>\n",
       "    </tr>\n",
       "    <tr>\n",
       "      <th>3</th>\n",
       "      <td>https://doi.org/10.1007/978-3-030-21074-8_26</td>\n",
       "      <td>https://dblp.org/pid/l/MongLiLee</td>\n",
       "      <td>Mong-Li Lee</td>\n",
       "      <td>National University of Singapore (NUS)</td>\n",
       "      <td>https://dblp.org/pid/243/1972-1</td>\n",
       "      <td>Quang Duc Nguyen 0001</td>\n",
       "      <td>Singapore Eye Research Institute, Singapore</td>\n",
       "    </tr>\n",
       "    <tr>\n",
       "      <th>4</th>\n",
       "      <td>http://dx.doi.org/10.1007/978-3-030-21074-8_26</td>\n",
       "      <td>https://dblp.org/pid/l/MongLiLee</td>\n",
       "      <td>Mong-Li Lee</td>\n",
       "      <td>National University of Singapore (NUS)</td>\n",
       "      <td>https://dblp.org/pid/h/WynneHsu</td>\n",
       "      <td>Wynne Hsu</td>\n",
       "      <td>National University of Singapore (NUS)</td>\n",
       "    </tr>\n",
       "  </tbody>\n",
       "</table>\n",
       "</div>"
      ],
      "text/plain": [
       "                                              doi  \\\n",
       "0     http://dx.doi.org/10.1109/5gwf.2019.8911693   \n",
       "1       https://doi.org/10.1109/5gwf.2019.8911693   \n",
       "2  http://dx.doi.org/10.1007/978-3-030-21074-8_26   \n",
       "3    https://doi.org/10.1007/978-3-030-21074-8_26   \n",
       "4  http://dx.doi.org/10.1007/978-3-030-21074-8_26   \n",
       "\n",
       "                            author1            name1  \\\n",
       "0      https://dblp.org/pid/75/4085  Mérouane Debbah   \n",
       "1      https://dblp.org/pid/75/4085  Mérouane Debbah   \n",
       "2  https://dblp.org/pid/l/MongLiLee      Mong-Li Lee   \n",
       "3  https://dblp.org/pid/l/MongLiLee      Mong-Li Lee   \n",
       "4  https://dblp.org/pid/l/MongLiLee      Mong-Li Lee   \n",
       "\n",
       "                                                aff1  \\\n",
       "0  Khalifa University, Abu Dhabi, United Arab Emi...   \n",
       "1  Khalifa University, Abu Dhabi, United Arab Emi...   \n",
       "2             National University of Singapore (NUS)   \n",
       "3             National University of Singapore (NUS)   \n",
       "4             National University of Singapore (NUS)   \n",
       "\n",
       "                           author2                  name2  \\\n",
       "0    https://dblp.org/pid/119/7827   Miguel Ángel Vázquez   \n",
       "1    https://dblp.org/pid/119/7827   Miguel Ángel Vázquez   \n",
       "2  https://dblp.org/pid/243/1972-1  Quang Duc Nguyen 0001   \n",
       "3  https://dblp.org/pid/243/1972-1  Quang Duc Nguyen 0001   \n",
       "4  https://dblp.org/pid/h/WynneHsu              Wynne Hsu   \n",
       "\n",
       "                                                aff2  \n",
       "0  Centre Tecnològic de Telecomunicacions de Cata...  \n",
       "1  Centre Tecnològic de Telecomunicacions de Cata...  \n",
       "2        Singapore Eye Research Institute, Singapore  \n",
       "3        Singapore Eye Research Institute, Singapore  \n",
       "4             National University of Singapore (NUS)  "
      ]
     },
     "execution_count": 61,
     "metadata": {},
     "output_type": "execute_result"
    }
   ],
   "source": [
    "colaboraciones_2019 = pd.read_csv('colaboraciones_with_names_2019.csv')\n",
    "colaboraciones_2019 = colaboraciones_2019.drop_duplicates()\n",
    "colaboraciones_2020 = pd.read_csv('colaboraciones_with_names_2020.csv')\n",
    "colaboraciones_2020 = colaboraciones_2020.drop_duplicates()\n",
    "colaboraciones_2021 = pd.read_csv('colaboraciones_with_names_2021.csv')\n",
    "colaboraciones_2021 = colaboraciones_2021.drop_duplicates()\n",
    "colaboraciones_2022 = pd.read_csv('colaboraciones_with_names_2022.csv')\n",
    "colaboraciones_2022 = colaboraciones_2022.drop_duplicates()\n",
    "print(len(colaboraciones_2019))\n",
    "print(len(colaboraciones_2020))\n",
    "print(len(colaboraciones_2021))\n",
    "print(len(colaboraciones_2022))\n",
    "colaboraciones_2019.head()"
   ]
  },
  {
   "cell_type": "code",
   "execution_count": 62,
   "metadata": {},
   "outputs": [],
   "source": [
    "#Agregamos el año a cada dataframe\n",
    "colaboraciones_2019['year'] = 2019\n",
    "colaboraciones_2020['year'] = 2020\n",
    "colaboraciones_2021['year'] = 2021\n",
    "colaboraciones_2022['year'] = 2022"
   ]
  },
  {
   "cell_type": "code",
   "execution_count": 63,
   "metadata": {},
   "outputs": [],
   "source": [
    "universidades = pd.read_csv('cwurData.csv')\n",
    "universidades_and_country = universidades[['institution', 'country']]\n",
    "universidades_and_country = universidades_and_country.drop_duplicates()"
   ]
  },
  {
   "cell_type": "code",
   "execution_count": 102,
   "metadata": {},
   "outputs": [
    {
     "name": "stdout",
     "output_type": "stream",
     "text": [
      "Warning: When  cdn_resources is 'local' jupyter notebook has issues displaying graphics on chrome/safari. Use cdn_resources='in_line' or cdn_resources='remote' if you have issues viewing graphics in a notebook.\n",
      "graph_2019.html\n"
     ]
    },
    {
     "data": {
      "text/html": [
       "\n",
       "        <iframe\n",
       "            width=\"100%\"\n",
       "            height=\"600px\"\n",
       "            src=\"graph_2019.html\"\n",
       "            frameborder=\"0\"\n",
       "            allowfullscreen\n",
       "            \n",
       "        ></iframe>\n",
       "        "
      ],
      "text/plain": [
       "<IPython.lib.display.IFrame at 0x7f2b1b46fe20>"
      ]
     },
     "execution_count": 102,
     "metadata": {},
     "output_type": "execute_result"
    }
   ],
   "source": [
    "import networkx as nx\n",
    "from pyvis.network import Network\n",
    "import matplotlib.pyplot as plt\n",
    "\n",
    "pares_autores_2019 = colaboraciones_2019[['name1', 'aff1','name2', 'aff2', 'doi']].drop_duplicates()\n",
    "pares_autores_2019['pairs'] = pares_autores_2019['name1'] + ' - ' + pares_autores_2019['name2']\n",
    "\n",
    "# Create an empty graph\n",
    "G = nx.Graph()\n",
    "\n",
    "# Add edges connecting name1 with name2\n",
    "for index, row in pares_autores_2019.iterrows():\n",
    "    name1 = row['name1']\n",
    "    name2 = row['name2']\n",
    "    G.add_edge(name1, name2)\n",
    "\n",
    "# Create a pyvis network\n",
    "nt = Network(notebook=True)\n",
    "\n",
    "# Add nodes and edges to the network\n",
    "for node in G.nodes:\n",
    "    nt.add_node(node)\n",
    "\n",
    "for edge in G.edges:\n",
    "    nt.add_edge(edge[0], edge[1])\n",
    "\n",
    "# Display the network\n",
    "nt.show('graph_2019.html')\n"
   ]
  },
  {
   "cell_type": "code",
   "execution_count": 96,
   "metadata": {},
   "outputs": [
    {
     "name": "stdout",
     "output_type": "stream",
     "text": [
      "Warning: When  cdn_resources is 'local' jupyter notebook has issues displaying graphics on chrome/safari. Use cdn_resources='in_line' or cdn_resources='remote' if you have issues viewing graphics in a notebook.\n",
      "graph_2020.html\n"
     ]
    },
    {
     "data": {
      "text/html": [
       "\n",
       "        <iframe\n",
       "            width=\"100%\"\n",
       "            height=\"600px\"\n",
       "            src=\"graph_2020.html\"\n",
       "            frameborder=\"0\"\n",
       "            allowfullscreen\n",
       "            \n",
       "        ></iframe>\n",
       "        "
      ],
      "text/plain": [
       "<IPython.lib.display.IFrame at 0x7f2b1b46f730>"
      ]
     },
     "execution_count": 96,
     "metadata": {},
     "output_type": "execute_result"
    }
   ],
   "source": [
    "pares_autores_2020 = colaboraciones_2020[['name1', 'aff1','name2', 'aff2', 'doi']].drop_duplicates()\n",
    "pares_autores_2020['pairs'] = pares_autores_2020['name1'] + ' - ' + pares_autores_2019['name2']\n",
    "\n",
    "# Create an empty graph\n",
    "G = nx.Graph()\n",
    "\n",
    "# Add edges connecting name1 with name2\n",
    "for index, row in pares_autores_2020.iterrows():\n",
    "    name1 = row['name1']\n",
    "    name2 = row['name2']\n",
    "    G.add_edge(name1, name2)\n",
    "\n",
    "# Create a pyvis network\n",
    "nt = Network(notebook=True)\n",
    "\n",
    "# Add nodes and edges to the network\n",
    "for node in G.nodes:\n",
    "    nt.add_node(node)\n",
    "\n",
    "for edge in G.edges:\n",
    "    nt.add_edge(edge[0], edge[1])\n",
    "\n",
    "# Display the network\n",
    "nt.show('graph_2020.html')"
   ]
  },
  {
   "cell_type": "code",
   "execution_count": 97,
   "metadata": {},
   "outputs": [
    {
     "name": "stdout",
     "output_type": "stream",
     "text": [
      "Warning: When  cdn_resources is 'local' jupyter notebook has issues displaying graphics on chrome/safari. Use cdn_resources='in_line' or cdn_resources='remote' if you have issues viewing graphics in a notebook.\n",
      "graph_2021.html\n"
     ]
    },
    {
     "data": {
      "text/html": [
       "\n",
       "        <iframe\n",
       "            width=\"100%\"\n",
       "            height=\"600px\"\n",
       "            src=\"graph_2021.html\"\n",
       "            frameborder=\"0\"\n",
       "            allowfullscreen\n",
       "            \n",
       "        ></iframe>\n",
       "        "
      ],
      "text/plain": [
       "<IPython.lib.display.IFrame at 0x7f2b1b46ed10>"
      ]
     },
     "execution_count": 97,
     "metadata": {},
     "output_type": "execute_result"
    }
   ],
   "source": [
    "pares_autores_2021 = colaboraciones_2021[['name1', 'aff1','name2', 'aff2', 'doi']].drop_duplicates()\n",
    "pares_autores_2021['pairs'] = pares_autores_2021['name1'] + ' - ' + pares_autores_2019['name2']\n",
    "\n",
    "# Create an empty graph\n",
    "G = nx.Graph()\n",
    "\n",
    "# Add edges connecting name1 with name2\n",
    "for index, row in pares_autores_2021.iterrows():\n",
    "    name1 = row['name1']\n",
    "    name2 = row['name2']\n",
    "    G.add_edge(name1, name2)\n",
    "\n",
    "# Create a pyvis network\n",
    "nt = Network(notebook=True)\n",
    "\n",
    "# Add nodes and edges to the network\n",
    "for node in G.nodes:\n",
    "    nt.add_node(node)\n",
    "\n",
    "for edge in G.edges:\n",
    "    nt.add_edge(edge[0], edge[1])\n",
    "\n",
    "# Display the network\n",
    "nt.show('graph_2021.html')"
   ]
  },
  {
   "cell_type": "code",
   "execution_count": 98,
   "metadata": {},
   "outputs": [
    {
     "name": "stdout",
     "output_type": "stream",
     "text": [
      "Warning: When  cdn_resources is 'local' jupyter notebook has issues displaying graphics on chrome/safari. Use cdn_resources='in_line' or cdn_resources='remote' if you have issues viewing graphics in a notebook.\n",
      "graph_2022.html\n"
     ]
    },
    {
     "data": {
      "text/html": [
       "\n",
       "        <iframe\n",
       "            width=\"100%\"\n",
       "            height=\"600px\"\n",
       "            src=\"graph_2022.html\"\n",
       "            frameborder=\"0\"\n",
       "            allowfullscreen\n",
       "            \n",
       "        ></iframe>\n",
       "        "
      ],
      "text/plain": [
       "<IPython.lib.display.IFrame at 0x7f2b1948beb0>"
      ]
     },
     "execution_count": 98,
     "metadata": {},
     "output_type": "execute_result"
    }
   ],
   "source": [
    "pares_autores_2022 = colaboraciones_2022[['name1', 'aff1','name2', 'aff2', 'doi']].drop_duplicates()\n",
    "pares_autores_2022['pairs'] = pares_autores_2022['name1'] + ' - ' + pares_autores_2019['name2']\n",
    "\n",
    "# Create an empty graph\n",
    "G = nx.Graph()\n",
    "\n",
    "# Add edges connecting name1 with name2\n",
    "for index, row in pares_autores_2022.iterrows():\n",
    "    name1 = row['name1']\n",
    "    name2 = row['name2']\n",
    "    G.add_edge(name1, name2)\n",
    "\n",
    "# Create a pyvis network\n",
    "nt = Network(notebook=True)\n",
    "\n",
    "# Add nodes and edges to the network\n",
    "for node in G.nodes:\n",
    "    nt.add_node(node)\n",
    "\n",
    "for edge in G.edges:\n",
    "    nt.add_edge(edge[0], edge[1])\n",
    "\n",
    "# Display the network\n",
    "nt.show('graph_2022.html')"
   ]
  },
  {
   "cell_type": "code",
   "execution_count": 107,
   "metadata": {},
   "outputs": [],
   "source": [
    "count_df_2019 = pares_autores_2019[pares_autores_2019['aff1'] != pares_autores_2019['aff2']].groupby('name1').size().reset_index(name='count')\n",
    "count_df_2020 = pares_autores_2020[pares_autores_2020['aff1'] != pares_autores_2020['aff2']].groupby('name1').size().reset_index(name='count')\n",
    "count_df_2021 = pares_autores_2021[pares_autores_2021['aff1'] != pares_autores_2021['aff2']].groupby('name1').size().reset_index(name='count')\n",
    "count_df_2022 = pares_autores_2022[pares_autores_2022['aff1'] != pares_autores_2022['aff2']].groupby('name1').size().reset_index(name='count')\n",
    "\n",
    "count_all_2019 = pares_autores_2019.groupby('name1').size().reset_index(name='count')\n",
    "count_all_2020 = pares_autores_2020.groupby('name1').size().reset_index(name='count')\n",
    "count_all_2021 = pares_autores_2021.groupby('name1').size().reset_index(name='count')\n",
    "count_all_2022 = pares_autores_2022.groupby('name1').size().reset_index(name='count')"
   ]
  }
 ],
 "metadata": {
  "kernelspec": {
   "display_name": "Python 3",
   "language": "python",
   "name": "python3"
  },
  "language_info": {
   "codemirror_mode": {
    "name": "ipython",
    "version": 3
   },
   "file_extension": ".py",
   "mimetype": "text/x-python",
   "name": "python",
   "nbconvert_exporter": "python",
   "pygments_lexer": "ipython3",
   "version": "3.10.12"
  }
 },
 "nbformat": 4,
 "nbformat_minor": 2
}
